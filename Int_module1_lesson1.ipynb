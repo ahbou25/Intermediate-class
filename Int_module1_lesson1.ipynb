{
  "cells": [
    {
      "cell_type": "markdown",
      "metadata": {
        "id": "view-in-github",
        "colab_type": "text"
      },
      "source": [
        "<a href=\"https://colab.research.google.com/github/ahbou25/Intermediate-class/blob/main/Int_module1_lesson1.ipynb\" target=\"_parent\"><img src=\"https://colab.research.google.com/assets/colab-badge.svg\" alt=\"Open In Colab\"/></a>"
      ]
    },
    {
      "cell_type": "markdown",
      "id": "8fbd0030",
      "metadata": {
        "id": "8fbd0030"
      },
      "source": [
        "Question 1:\n",
        "Use else block to display a message “Done” after successful execution of for loop.\n"
      ]
    },
    {
      "cell_type": "code",
      "execution_count": null,
      "id": "95661041",
      "metadata": {
        "id": "95661041",
        "outputId": "afe3f525-ba37-4c39-a4ab-fbdf23cc6c6b"
      },
      "outputs": [
        {
          "name": "stdout",
          "output_type": "stream",
          "text": [
            "A\n",
            "b\n",
            "u\n",
            "b\n",
            "a\n",
            "k\n",
            "a\n",
            "r\n",
            "Done!\n"
          ]
        }
      ],
      "source": [
        "for i in (\"Abubakar\"):\n",
        "    print(i)\n",
        "else:\n",
        "    print(\"Done!\")"
      ]
    },
    {
      "cell_type": "markdown",
      "id": "88d5685e",
      "metadata": {
        "id": "88d5685e"
      },
      "source": [
        "Question 2:\n",
        "Write a program to display all prime numbers within a range.\n"
      ]
    },
    {
      "cell_type": "code",
      "execution_count": null,
      "id": "2b960b10",
      "metadata": {
        "id": "2b960b10",
        "outputId": "a23ac931-539c-4f18-9e6f-ec92db2805c4"
      },
      "outputs": [
        {
          "name": "stdout",
          "output_type": "stream",
          "text": [
            "Prime numbers between 21 and 50 are:\n",
            "23\n",
            "29\n",
            "31\n",
            "37\n",
            "41\n",
            "43\n",
            "47\n"
          ]
        }
      ],
      "source": [
        "start = 21\n",
        "end = 50\n",
        "\n",
        "print(\"Prime numbers between\", start, \"and\", end, \"are:\")\n",
        "\n",
        "for num in range(start, end + 1):\n",
        "    # all prime numbers are greater than 1\n",
        "    # if number is less than or equal to 1, it is not prime\n",
        "    if num > 1:\n",
        "        for i in range(2, num):\n",
        "            # check for factors\n",
        "            if (num % i) == 0:\n",
        "                # not a prime number so break inner loop and\n",
        "                # look for next number\n",
        "                break\n",
        "        else:\n",
        "            print(num)\n"
      ]
    },
    {
      "cell_type": "markdown",
      "id": "b9304509",
      "metadata": {
        "id": "b9304509"
      },
      "source": [
        "Question 3:\n",
        "Use a loop to display elements from a given list present at odd index positions.\n",
        "\n"
      ]
    },
    {
      "cell_type": "code",
      "execution_count": null,
      "id": "a8c4e8db",
      "metadata": {
        "id": "a8c4e8db",
        "outputId": "145b2815-fd1c-4169-9769-22f4121ac4aa"
      },
      "outputs": [
        {
          "name": "stdout",
          "output_type": "stream",
          "text": [
            "20 40 60 80 100 "
          ]
        }
      ],
      "source": [
        "my_list = [10, 20, 30, 40, 50, 60, 70, 80, 90, 100]\n",
        "# start from index 1 with step 2( means 1, 3, 5, an so on)\n",
        "for i in my_list[1::2]:\n",
        "    print(i, end=\" \")"
      ]
    },
    {
      "cell_type": "markdown",
      "id": "d08f4d4e",
      "metadata": {
        "id": "d08f4d4e"
      },
      "source": [
        "Question 4:\n",
        "Calculate the cube of all numbers from 1 to a given number"
      ]
    },
    {
      "cell_type": "code",
      "execution_count": null,
      "id": "7e9b87cc",
      "metadata": {
        "id": "7e9b87cc",
        "outputId": "27b479c8-2a1b-418e-fb74-392a32eed0ec"
      },
      "outputs": [
        {
          "name": "stdout",
          "output_type": "stream",
          "text": [
            "Current Number is : 1  and the cube is 1\n",
            "Current Number is : 2  and the cube is 8\n",
            "Current Number is : 3  and the cube is 27\n",
            "Current Number is : 4  and the cube is 64\n",
            "Current Number is : 5  and the cube is 125\n",
            "Current Number is : 6  and the cube is 216\n",
            "Current Number is : 7  and the cube is 343\n",
            "Current Number is : 8  and the cube is 512\n",
            "Current Number is : 9  and the cube is 729\n",
            "Current Number is : 10  and the cube is 1000\n"
          ]
        }
      ],
      "source": [
        "input_number = 10\n",
        "for i in range(1, input_number + 1):\n",
        "    print(\"Current Number is :\", i, \" and the cube is\", (i * i * i))"
      ]
    },
    {
      "cell_type": "code",
      "execution_count": null,
      "id": "4b8f1258",
      "metadata": {
        "id": "4b8f1258",
        "outputId": "a7cf27a6-3422-4482-9c3f-9ca2452d569d"
      },
      "outputs": [
        {
          "name": "stdout",
          "output_type": "stream",
          "text": [
            "Current Number is : 1  and the cube is 1\n",
            "Current Number is : 2  and the cube is 8\n",
            "Current Number is : 3  and the cube is 27\n",
            "Current Number is : 4  and the cube is 64\n",
            "Current Number is : 5  and the cube is 125\n",
            "Current Number is : 6  and the cube is 216\n",
            "Current Number is : 7  and the cube is 343\n",
            "Current Number is : 8  and the cube is 512\n",
            "Current Number is : 9  and the cube is 729\n"
          ]
        }
      ],
      "source": [
        "input_number = 10\n",
        "for i in range(1, 10):\n",
        "    print(\"Current Number is :\", i, \" and the cube is\", (i * i * i))"
      ]
    },
    {
      "cell_type": "code",
      "execution_count": null,
      "id": "f29f4f74",
      "metadata": {
        "id": "f29f4f74"
      },
      "outputs": [],
      "source": []
    }
  ],
  "metadata": {
    "kernelspec": {
      "display_name": "Python 3 (ipykernel)",
      "language": "python",
      "name": "python3"
    },
    "language_info": {
      "codemirror_mode": {
        "name": "ipython",
        "version": 3
      },
      "file_extension": ".py",
      "mimetype": "text/x-python",
      "name": "python",
      "nbconvert_exporter": "python",
      "pygments_lexer": "ipython3",
      "version": "3.9.12"
    },
    "colab": {
      "provenance": [],
      "include_colab_link": true
    }
  },
  "nbformat": 4,
  "nbformat_minor": 5
}