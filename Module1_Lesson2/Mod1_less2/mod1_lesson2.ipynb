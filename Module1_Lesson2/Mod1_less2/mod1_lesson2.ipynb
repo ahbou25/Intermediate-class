{
 "cells": [
  {
   "cell_type": "markdown",
   "metadata": {},
   "source": [
    "#Creating a function that repeats the first 2 letters of a word which will be followed by 3 dots and a space after. \n",
    "The string should be ended with a question mark."
   ]
  },
  {
   "cell_type": "code",
   "execution_count": null,
   "metadata": {},
   "outputs": [],
   "source": [
    "def repeat_letters(x):\n",
    "    print(f\"{x[0:2]}... {x[0:2]}... {x}?\")\n",
    "repeat_letters(\"Abubakar\")"
   ]
  },
  {
   "cell_type": "markdown",
   "metadata": {},
   "source": [
    "#Perform a for loop that searches through a string and prints only distinct vowel letters."
   ]
  },
  {
   "cell_type": "code",
   "execution_count": 1,
   "metadata": {},
   "outputs": [
    {
     "name": "stdout",
     "output_type": "stream",
     "text": [
      "a e i o u "
     ]
    }
   ],
   "source": [
    "vowels = \"aeiou\"\n",
    "def search_through(x):\n",
    "    for i in vowels:\n",
    "        if i in x:\n",
    "            print(i, end=\" \")\n",
    "search_through(\"unquestionably\")"
   ]
  },
  {
   "cell_type": "markdown",
   "metadata": {},
   "source": [
    "#Perform a while loop that requests for a name, if that name is entered, it will be printed else,\n",
    "if user types “end” (this command should be case insensitive), the while loop is terminated"
   ]
  },
  {
   "cell_type": "code",
   "execution_count": null,
   "metadata": {},
   "outputs": [],
   "source": [
    "user_name = True\n",
    "while user_name:\n",
    "    name = input(\"Enter name, or type end to quit: \")\n",
    "    if name.lower() == \"end\":\n",
    "        user_name = False"
   ]
  }
 ],
 "metadata": {
  "kernelspec": {
   "display_name": "Python 3.10.5 64-bit",
   "language": "python",
   "name": "python3"
  },
  "language_info": {
   "codemirror_mode": {
    "name": "ipython",
    "version": 3
   },
   "file_extension": ".py",
   "mimetype": "text/x-python",
   "name": "python",
   "nbconvert_exporter": "python",
   "pygments_lexer": "ipython3",
   "version": "3.10.5"
  },
  "orig_nbformat": 4,
  "vscode": {
   "interpreter": {
    "hash": "76d7c06053c3456e5600312cec90888656fc0ed30c03d8425b9dac6e4fc8e014"
   }
  }
 },
 "nbformat": 4,
 "nbformat_minor": 2
}
